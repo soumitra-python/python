{
  "nbformat": 4,
  "nbformat_minor": 0,
  "metadata": {
    "colab": {
      "provenance": [],
      "authorship_tag": "ABX9TyMwehCxH7ewNiPxPhP1OeOa",
      "include_colab_link": true
    },
    "kernelspec": {
      "name": "python3",
      "display_name": "Python 3"
    },
    "language_info": {
      "name": "python"
    }
  },
  "cells": [
    {
      "cell_type": "markdown",
      "metadata": {
        "id": "view-in-github",
        "colab_type": "text"
      },
      "source": [
        "<a href=\"https://colab.research.google.com/github/soumitra-python/python/blob/python/String.ipynb\" target=\"_parent\"><img src=\"https://colab.research.google.com/assets/colab-badge.svg\" alt=\"Open In Colab\"/></a>"
      ]
    },
    {
      "cell_type": "code",
      "execution_count": null,
      "metadata": {
        "colab": {
          "base_uri": "https://localhost:8080/"
        },
        "id": "8Dl99O3B67-0",
        "outputId": "f9ec1af0-b8b4-4aa8-c5fa-12bb793edff0"
      },
      "outputs": [
        {
          "output_type": "stream",
          "name": "stdout",
          "text": [
            "It's alright\n",
            "He is called 'Johnny'\n",
            "He is called \"Johnny\"\n"
          ]
        }
      ],
      "source": [
        "print(\"It's alright\")\n",
        "print(\"He is called 'Johnny'\")\n",
        "print('He is called \"Johnny\"')"
      ]
    },
    {
      "cell_type": "code",
      "source": [
        "# Assign String to a Variable\n",
        "# Assigning a string to a variable is done with the variable name followed by an equal sign and the string:\n",
        "# Example\n",
        "a = \"Hello\"\n",
        "print(a)"
      ],
      "metadata": {
        "colab": {
          "base_uri": "https://localhost:8080/"
        },
        "id": "mBp1oZ9l7EhB",
        "outputId": "79e8d9a1-0c01-4200-e583-ace4272baa1d"
      },
      "execution_count": null,
      "outputs": [
        {
          "output_type": "stream",
          "name": "stdout",
          "text": [
            "Hello\n"
          ]
        }
      ]
    },
    {
      "cell_type": "code",
      "source": [
        "# Multiline Strings\n",
        "# Example\n",
        "# You can use three double quotes:\n",
        "\n",
        "a = \"\"\"Lorem ipsum dolor sit amet,\n",
        "consectetur adipiscing elit,\n",
        "sed do eiusmod tempor incididunt\n",
        "ut labore et dolore magna aliqua.\"\"\"\n",
        "print(a)"
      ],
      "metadata": {
        "colab": {
          "base_uri": "https://localhost:8080/"
        },
        "id": "c7Da9kyd7TSt",
        "outputId": "518f6180-d293-4c2c-8df6-71110926b14f"
      },
      "execution_count": null,
      "outputs": [
        {
          "output_type": "stream",
          "name": "stdout",
          "text": [
            "Lorem ipsum dolor sit amet,\n",
            "consectetur adipiscing elit,\n",
            "sed do eiusmod tempor incididunt\n",
            "ut labore et dolore magna aliqua.\n"
          ]
        }
      ]
    },
    {
      "cell_type": "code",
      "source": [
        "# Strings are Arrays\n",
        "# Like many other popular programming languages, strings in Python are arrays of unicode characters.\n",
        "\n",
        "# However, Python does not have a character data type, a single character is simply a string with a length of 1.\n",
        "\n",
        "# Square brackets can be used to access elements of the string.\n",
        "\n",
        "# Example\n",
        "# Get the character at position 1 (remember that the first character has the position 0):\n",
        "\n",
        "a = \" H ello, World!\"\n",
        "print(a[3])"
      ],
      "metadata": {
        "colab": {
          "base_uri": "https://localhost:8080/"
        },
        "id": "4Wmdl7qr7amO",
        "outputId": "2dd0711d-4fb4-47f1-d287-71effdae1855"
      },
      "execution_count": null,
      "outputs": [
        {
          "output_type": "stream",
          "name": "stdout",
          "text": [
            "e\n"
          ]
        }
      ]
    },
    {
      "cell_type": "code",
      "source": [
        "# Looping Through a String\n",
        "# Since strings are arrays, we can loop through the characters in a string, with a for loop.\n",
        "\n",
        "# Example\n",
        "# Loop through the letters in the word \"banana\":\n",
        "\n",
        "for x in \"banana\":\n",
        "  print(x)"
      ],
      "metadata": {
        "colab": {
          "base_uri": "https://localhost:8080/"
        },
        "id": "Z_Dd_TQ67awE",
        "outputId": "0f64ce50-3a13-4524-d31f-ee031e1a88ee"
      },
      "execution_count": null,
      "outputs": [
        {
          "output_type": "stream",
          "name": "stdout",
          "text": [
            "b\n",
            "a\n",
            "n\n",
            "a\n",
            "n\n",
            "a\n"
          ]
        }
      ]
    },
    {
      "cell_type": "code",
      "source": [
        "# String Length\n",
        "# To get the length of a string, use the len() function.\n",
        "\n",
        "# Example\n",
        "# The len() function returns the length of a string:\n",
        "\n",
        "a = \"Hello, World!\"\n",
        "print(len(a))"
      ],
      "metadata": {
        "colab": {
          "base_uri": "https://localhost:8080/"
        },
        "id": "2qn18BqY7ayk",
        "outputId": "ed80e2b1-b1f8-4f96-9285-a08ab0c59f9c"
      },
      "execution_count": null,
      "outputs": [
        {
          "output_type": "stream",
          "name": "stdout",
          "text": [
            "13\n"
          ]
        }
      ]
    },
    {
      "cell_type": "code",
      "source": [
        "# Check String\n",
        "# To check if a certain phrase or character is present in a string, we can use the keyword in.\n",
        "\n",
        "# Example\n",
        "# Check if \"free\" is present in the following text:\n",
        "\n",
        "txt = \"The best things in life are free!\"\n",
        "print(\"free\" in txt)"
      ],
      "metadata": {
        "colab": {
          "base_uri": "https://localhost:8080/"
        },
        "id": "tyDiuAyV7a1U",
        "outputId": "0f23ac8b-dbb8-4e45-9654-1194c9f8f1a5"
      },
      "execution_count": null,
      "outputs": [
        {
          "output_type": "stream",
          "name": "stdout",
          "text": [
            "True\n"
          ]
        }
      ]
    },
    {
      "cell_type": "code",
      "source": [
        "# Print only if \"free\" is present:\n",
        "\n",
        "txt = \"The best things in life are free!\"\n",
        "if \"free\" in txt:\n",
        "  print(\"Yes, 'free' is present.\")\n",
        "else:\n",
        "  print(\"not present in veriable\")"
      ],
      "metadata": {
        "colab": {
          "base_uri": "https://localhost:8080/"
        },
        "id": "7xSHCOzt7a3v",
        "outputId": "6153812a-89c4-449f-cdf8-9d97d7c3312e"
      },
      "execution_count": null,
      "outputs": [
        {
          "output_type": "stream",
          "name": "stdout",
          "text": [
            "Yes, 'free' is present.\n"
          ]
        }
      ]
    },
    {
      "cell_type": "code",
      "source": [
        "# Check if \"expensive\" is NOT present in the following text:\n",
        "\n",
        "txt = \"The best things in life are free!\"\n",
        "print(\"expensive\" not in txt)\n"
      ],
      "metadata": {
        "colab": {
          "base_uri": "https://localhost:8080/"
        },
        "id": "iotRE7lW7a6X",
        "outputId": "85452a9f-9893-4c0d-d56d-d4ea56bac7d9"
      },
      "execution_count": null,
      "outputs": [
        {
          "output_type": "stream",
          "name": "stdout",
          "text": [
            "True\n"
          ]
        }
      ]
    },
    {
      "cell_type": "code",
      "source": [
        "# print only if \"expensive\" is NOT present:\n",
        "\n",
        "txt = \"The best things in life are free!\"\n",
        "if \"expensive\" not in txt:\n",
        "  print(\"No, 'expensive' is NOT present.\")"
      ],
      "metadata": {
        "colab": {
          "base_uri": "https://localhost:8080/"
        },
        "id": "Rb9FS9xS7a81",
        "outputId": "3803fcdd-53a2-464a-9629-93e5f87db483"
      },
      "execution_count": null,
      "outputs": [
        {
          "output_type": "stream",
          "name": "stdout",
          "text": [
            "No, 'expensive' is NOT present.\n"
          ]
        }
      ]
    },
    {
      "cell_type": "code",
      "source": [
        "### Slicing string"
      ],
      "metadata": {
        "id": "QIsIF0uB7a_Z"
      },
      "execution_count": null,
      "outputs": []
    },
    {
      "cell_type": "code",
      "source": [
        "# Get the characters from position 2 to position 5 (not included):\n",
        "\n",
        "b = \"Hello, World!\"\n",
        "print(b[::2])"
      ],
      "metadata": {
        "colab": {
          "base_uri": "https://localhost:8080/"
        },
        "id": "5LH5V55J7bB-",
        "outputId": "10825097-6fdf-40cc-c840-9a1a9852248a"
      },
      "execution_count": null,
      "outputs": [
        {
          "output_type": "stream",
          "name": "stdout",
          "text": [
            "Hlo ol!\n"
          ]
        }
      ]
    },
    {
      "cell_type": "code",
      "source": [
        "# Get the characters from the start to position 5 (not included):\n",
        "\n",
        "b = \"Hello, World!\"\n",
        "print(b[::-1])"
      ],
      "metadata": {
        "colab": {
          "base_uri": "https://localhost:8080/"
        },
        "id": "eSxagZME7bEi",
        "outputId": "ca9fa5e4-5ec1-4f04-ea83-024247707b5b"
      },
      "execution_count": null,
      "outputs": [
        {
          "output_type": "stream",
          "name": "stdout",
          "text": [
            "!dlroW ,olleH\n"
          ]
        }
      ]
    },
    {
      "cell_type": "code",
      "source": [
        "# Get the characters from position 2, and all the way to the end:\n",
        "\n",
        "b = \"Hello, World!\"\n",
        "print(b[-3:-7])"
      ],
      "metadata": {
        "colab": {
          "base_uri": "https://localhost:8080/"
        },
        "id": "XUKV2uxC7bHM",
        "outputId": "db8c711b-701a-494d-db20-0f426d0a74fe"
      },
      "execution_count": null,
      "outputs": [
        {
          "output_type": "stream",
          "name": "stdout",
          "text": [
            "\n"
          ]
        }
      ]
    },
    {
      "cell_type": "code",
      "source": [
        "# Get the characters:\n",
        "\n",
        "# From: \"o\" in \"World!\" (position -5)\n",
        "\n",
        "# To, but not included: \"d\" in \"World!\" (position -2):\n",
        "\n",
        "b = \"Hello, World!\"\n",
        "# H    e   l   l   o  ,     W  o  r  l   d    !\n",
        "# 0    1   2   3   4  5  6  7  8  9  10  11  12\n",
        "#-12  -11 -10  -9 -8 -7 -6 -5 -4  -3  -2 -1  0\n",
        "\n",
        "print(b[10:-3])"
      ],
      "metadata": {
        "colab": {
          "base_uri": "https://localhost:8080/"
        },
        "id": "uuf9e4Kn7bJ0",
        "outputId": "4e27eccd-33f8-4a91-d484-66ad80cfe48d"
      },
      "execution_count": null,
      "outputs": [
        {
          "output_type": "stream",
          "name": "stdout",
          "text": [
            "\n"
          ]
        }
      ]
    },
    {
      "cell_type": "code",
      "source": [
        "### string Function\n"
      ],
      "metadata": {
        "id": "0D3kKT5e7bMU"
      },
      "execution_count": null,
      "outputs": []
    },
    {
      "cell_type": "code",
      "source": [
        "# Case Changing Methods:\n",
        "# lower(): Converts all uppercase characters in the string to lowercase.\n",
        "# upper(): Converts all lowercase characters in the string to uppercase.\n",
        "# capitalize(): Capitalizes the first character of the string and converts the rest to lowercase.\n",
        "# title(): Converts the string to title case, where the first letter of each word is capitalized.\n",
        "# swapcase(): Swaps the case of all characters in the string (uppercase to lowercase, and vice versa).\n",
        "# Searching and Counting Methods:\n",
        "# find(substring): Returns the lowest index of the first occurrence of the substring. Returns -1 if not found.\n",
        "# rfind(substring): Returns the highest index of the last occurrence of the substring. Returns -1 if not found.\n",
        "# count(substring): Returns the number of occurrences of the substring in the string.\n",
        "# Modification and Formatting Methods:\n",
        "# replace(old, new): Returns a new string where all occurrences of old are replaced with new.\n",
        "# strip(): Returns a new string with leading and trailing whitespace removed.\n",
        "# lstrip(): Returns a new string with leading whitespace removed.\n",
        "# rstrip(): Returns a new string with trailing whitespace removed.\n",
        "# split(separator): Splits the string into a list of substrings based on the separator.\n",
        "# join(iterable): Concatenates the elements of an iterable (e.g., a list of strings) using the string as a separator.\n",
        "# format(...): Formats the string by inserting values into placeholders.\n",
        "# Checking Methods (return True or False):\n",
        "# isdigit(): Returns True if all characters in the string are digits.\n",
        "# isalpha(): Returns True if all characters in the string are alphabetic.\n",
        "# isalnum(): Returns True if all characters in the string are alphanumeric.\n",
        "# isspace(): Returns True if all characters in the string are whitespace.\n",
        "# startswith(prefix): Returns True if the string starts with the specified prefix.\n",
        "# endswith(suffix): Returns True if the string ends with the specified suffix."
      ],
      "metadata": {
        "id": "s7YkNYMk7bO9"
      },
      "execution_count": null,
      "outputs": []
    },
    {
      "cell_type": "code",
      "source": [
        "# | Function            | Description                                     |\n",
        "# | ------------------- | ----------------------------------------------- |\n",
        "# | `len()`             | Returns the length of a string                  |\n",
        "# | `lower()`           | Converts all characters to lowercase            |\n",
        "# | `upper()`           | Converts all characters to uppercase            |\n",
        "# | `title()`           | Converts first letter of each word to uppercase |\n",
        "# | `capitalize()`      | Converts first character to uppercase           |\n",
        "# | `strip()`           | Removes leading and trailing spaces             |\n",
        "# | `lstrip()`          | Removes leading spaces                          |\n",
        "# | `rstrip()`          | Removes trailing spaces                         |\n",
        "# | `replace(old, new)` | Replaces substring with another                 |\n",
        "# | `split(sep)`        | Splits string into a list                       |\n",
        "# | `join(iterable)`    | Joins elements with a string separator          |\n",
        "# | `find(sub)`         | Returns index of first occurrence of substring  |\n",
        "# | `index(sub)`        | Same as `find()`, but raises error if not found |\n",
        "# | `count(sub)`        | Counts occurrences of substring                 |\n",
        "# | `startswith(sub)`   | Checks if string starts with substring          |\n",
        "# | `endswith(sub)`     | Checks if string ends with substring            |\n",
        "# | `isalnum()`         | True if all characters are alphanumeric         |\n",
        "# | `isalpha()`         | True if all characters are alphabetic           |\n",
        "# | `isdigit()`         | True if all characters are digits               |\n",
        "# | `isspace()`         | True if string contains only spaces             |\n",
        "# | `swapcase()`        | Swaps case of all letters                       |\n",
        "# | `center(width)`     | Centers the string with spaces                  |\n",
        "# | `zfill(width)`      | Pads string on the left with zeros              |\n",
        "# | `format()`          | Formats string using placeholders               |\n",
        "# | `encode()`          | Encodes the string (e.g., UTF-8)                |\n"
      ],
      "metadata": {
        "id": "qTQkiXWX7bTd"
      },
      "execution_count": null,
      "outputs": []
    },
    {
      "cell_type": "code",
      "source": [
        "# String Functions Example\n",
        "text = \"  Hello Python Programming  \"\n",
        "\n",
        "print(\"Original String:\", text)\n",
        "print(\"1. Length:\", len(text))\n",
        "print(\"2. Lowercase:\", text.lower())\n",
        "print(\"3. Uppercase:\", text.upper())\n",
        "print(\"4. Stripped:\", text.strip())\n",
        "print(\"5. Replace:\", text.replace(\"Python\", \"World\"))\n",
        "print(\"6. Split:\", text.split())\n",
        "print(\"7. Find 'Python':\", text.find(\"Python\"))\n",
        "print(\"8. Count 'o':\", text.count(\"o\"))\n",
        "print(\"9. Starts with '  He':\", text.startswith(\"  He\"))\n",
        "print(\"10. Is Alpha:\", text.isalpha())\n",
        "\n",
        "# Using join and format\n",
        "words = ['Python', 'is', 'fun']\n",
        "print(\"11. Join:\", \" \".join(words))\n",
        "print(\"12. Format:\", \"Welcome to {}!\".format(\"Python\"))\n"
      ],
      "metadata": {
        "colab": {
          "base_uri": "https://localhost:8080/"
        },
        "id": "MnBHDyc77bWQ",
        "outputId": "2015ac77-25af-47a4-ce9f-e37c15f291ad"
      },
      "execution_count": null,
      "outputs": [
        {
          "output_type": "stream",
          "name": "stdout",
          "text": [
            "Original String:   Hello Python Programming  \n",
            "1. Length: 28\n",
            "2. Lowercase:   hello python programming  \n",
            "3. Uppercase:   HELLO PYTHON PROGRAMMING  \n",
            "4. Stripped: Hello Python Programming\n",
            "5. Replace:   Hello World Programming  \n",
            "6. Split: ['Hello', 'Python', 'Programming']\n",
            "7. Find 'Python': 8\n",
            "8. Count 'o': 3\n",
            "9. Starts with '  He': True\n",
            "10. Is Alpha: False\n",
            "11. Join: Python is fun\n",
            "12. Format: Welcome to Python!\n"
          ]
        }
      ]
    },
    {
      "cell_type": "code",
      "source": [
        "# Merge variable a with variable b into variable c:\n",
        "\n",
        "a = \"Hello\"\n",
        "b = \"World\"\n",
        "c = a + b\n",
        "print(c)"
      ],
      "metadata": {
        "colab": {
          "base_uri": "https://localhost:8080/"
        },
        "id": "veP5U_Xp_d7L",
        "outputId": "27991565-9dc1-4b75-8948-ca97923cd68d"
      },
      "execution_count": null,
      "outputs": [
        {
          "output_type": "stream",
          "name": "stdout",
          "text": [
            "HelloWorld\n"
          ]
        }
      ]
    },
    {
      "cell_type": "code",
      "source": [
        "# To add a space between them, add a \" \":\n",
        "\n",
        "a = \"Hello\"\n",
        "b = \"World\"\n",
        "c = a + \" \" + b\n",
        "print(c)"
      ],
      "metadata": {
        "colab": {
          "base_uri": "https://localhost:8080/"
        },
        "id": "CyUvednF_jf6",
        "outputId": "67ca1c37-9932-4f08-9950-0509e4e0b947"
      },
      "execution_count": null,
      "outputs": [
        {
          "output_type": "stream",
          "name": "stdout",
          "text": [
            "Hello World\n"
          ]
        }
      ]
    },
    {
      "cell_type": "code",
      "source": [
        "# String Format\n",
        "# As we learned in the Python Variables chapter, we cannot combine strings and numbers like this:\n",
        "\n",
        "# ExampleGet your own Python Server\n",
        "# age = 36\n",
        "# #This will produce an error:\n",
        "# txt = \"My name is John, I am \"+ age\n",
        "# print(txt)\n",
        "\n",
        "# ---------------------------------------------------------------------------\n",
        "# TypeError                                 Traceback (most recent call last)\n",
        "# /tmp/ipython-input-3090696050.py in <cell line: 0>()\n",
        "#       5 age = 36\n",
        "#       6 #This will produce an error:\n",
        "# ----> 7 txt = \"My name is John, I am \"+ age\n",
        "#       8 print(txt)\n",
        "\n",
        "# TypeError: can only concatenate str (not \"int\") to str"
      ],
      "metadata": {
        "id": "sg_G3cq2_jkr"
      },
      "execution_count": null,
      "outputs": []
    },
    {
      "cell_type": "code",
      "source": [
        "# F-String was introduced in Python 3.6, and is now the preferred way of formatting strings.\n",
        "\n",
        "# To specify a string as an f-string, simply put an f in front of the string literal, and add curly brackets {} as placeholders for variables and other operations.\n",
        "\n",
        "# Example\n",
        "# Create an f-string:\n",
        "\n",
        "age = 36\n",
        "txt = f\"My name is John, I am {age}\"\n",
        "print(txt)"
      ],
      "metadata": {
        "colab": {
          "base_uri": "https://localhost:8080/"
        },
        "id": "QQH8WNzJ_jni",
        "outputId": "fa2f13d9-497c-4648-f2bf-6200c8214168"
      },
      "execution_count": null,
      "outputs": [
        {
          "output_type": "stream",
          "name": "stdout",
          "text": [
            "My name is John, I am 36\n"
          ]
        }
      ]
    },
    {
      "cell_type": "code",
      "source": [
        "# F-String was introduced in Python 3.6, and is now the preferred way of formatting strings.\n",
        "\n",
        "# To specify a string as an f-string, simply put an f in front of the string literal, and add curly brackets {} as placeholders for variables and other operations.\n",
        "\n",
        "# Example\n",
        "# Create an f-string:\n",
        "\n",
        "age = 36\n",
        "txt = f\"My name is John, I am {age}\"\n",
        "print(txt)"
      ],
      "metadata": {
        "colab": {
          "base_uri": "https://localhost:8080/"
        },
        "id": "L0bf96kk_jqL",
        "outputId": "e8768053-975e-44d0-9a4d-0adcbc744cb9"
      },
      "execution_count": null,
      "outputs": [
        {
          "output_type": "stream",
          "name": "stdout",
          "text": [
            "My name is John, I am 36\n"
          ]
        }
      ]
    },
    {
      "cell_type": "code",
      "source": [
        "# A placeholder can include a modifier to format the value.\n",
        "\n",
        "# A modifier is included by adding a colon : followed by a legal formatting type, like .2f which means fixed point number with 2 decimals:\n",
        "\n",
        "# Example\n",
        "# Display the price with 2 decimals:\n",
        "\n",
        "price = 59\n",
        "txt = f\"The price is {price:.2f} dollars\"\n",
        "print(txt)"
      ],
      "metadata": {
        "colab": {
          "base_uri": "https://localhost:8080/"
        },
        "id": "xsBB3ZZ6_j7D",
        "outputId": "a5da4d15-48f1-491a-e891-44e7e9aa9025"
      },
      "execution_count": null,
      "outputs": [
        {
          "output_type": "stream",
          "name": "stdout",
          "text": [
            "The price is 59.00 dollars\n"
          ]
        }
      ]
    },
    {
      "cell_type": "code",
      "source": [
        "# Perform a math operation in the placeholder, and return the result:\n",
        "\n",
        "txt = f\"The price is {20 * 59} dollars\"\n",
        "print(txt)"
      ],
      "metadata": {
        "colab": {
          "base_uri": "https://localhost:8080/"
        },
        "id": "_pVXe6c8_j-q",
        "outputId": "04b50830-6d6f-4abc-de95-32ec6c4efdbe"
      },
      "execution_count": null,
      "outputs": [
        {
          "output_type": "stream",
          "name": "stdout",
          "text": [
            "The price is 1180 dollars\n"
          ]
        }
      ]
    },
    {
      "cell_type": "code",
      "source": [
        "# You will get an error if you use double quotes inside a string that is surrounded by double quotes:\n",
        "\n",
        "# txt = \"We are the so-called \"Vikings\" from the north.\"\n",
        "\n",
        "#   File \"/tmp/ipython-input-624176816.py\", line 3\n",
        "#     txt = \"We are the so-called \"Vikings\" from the north.\"\n",
        "#                                  ^\n",
        "# SyntaxError: invalid syntax\n"
      ],
      "metadata": {
        "id": "qOLWYXra_kBc"
      },
      "execution_count": null,
      "outputs": []
    },
    {
      "cell_type": "code",
      "source": [
        "# The escape character allows you to use double quotes when you normally would not be allowed:\n",
        "\n",
        "txt = \"We are the so-called \\\"Vikings\\\" from the north.\""
      ],
      "metadata": {
        "id": "9bDhE3jDA8Z3"
      },
      "execution_count": null,
      "outputs": []
    },
    {
      "cell_type": "code",
      "source": [
        "\n",
        "# Code   \tResult\n",
        "# \\'\t    Single Quote\n",
        "# \\\\\t    Backslash\n",
        "# \\n\t    New Line\n",
        "# \\r\t    Carriage Return\n",
        "# \\t\t    Tab\n",
        "# \\b\t    Backspace\n",
        "# \\f\t    Form Feed\n",
        "# \\ooo\t  Octal value\n",
        "# \\xhh\t  Hex value"
      ],
      "metadata": {
        "id": "V6AEf-eLA8ce"
      },
      "execution_count": null,
      "outputs": []
    },
    {
      "cell_type": "code",
      "source": [
        "# Method                          \tDescription\n",
        "# capitalize()            Converts the first character to upper case\n",
        "# casefold()            \tConverts string into lower case\n",
        "# center()              \tReturns a centered string\n",
        "# count()               \tReturns the number of times a specified value occurs in a string\n",
        "# encode()\t              Returns an encoded version of the string\n",
        "# endswith()\t            Returns true if the string ends with the specified value\n",
        "# expandtabs()          \tSets the tab size of the string\n",
        "# find()\t                Searches the string for a specified value and returns the position of where it was found\n",
        "# format()\t              Formats specified values in a string\n",
        "# format_map()\t          Formats specified values in a string\n",
        "# index()\t                Searches the string for a specified value and returns the position of where it was found\n",
        "# isalnum()\t              Returns True if all characters in the string are alphanumeric\n",
        "# isalpha()\t              Returns True if all characters in the string are in the alphabet\n",
        "# isascii()\t              Returns True if all characters in the string are ascii characters\n",
        "# isdecimal()\t            Returns True if all characters in the string are decimals\n",
        "# isdigit()\t              Returns True if all characters in the string are digits\n",
        "# isidentifier()\t        Returns True if the string is an identifier\n",
        "# islower()\t              Returns True if all characters in the string are lower case\n",
        "# isnumeric()\t            Returns True if all characters in the string are numeric\n",
        "# isprintable()           Returns True if all characters in the string are printable\n",
        "# isspace()\t              Returns True if all characters in the string are whitespaces\n",
        "# istitle()             \tReturns True if the string follows the rules of a title\n",
        "# isupper()\t              Returns True if all characters in the string are upper case\n",
        "# join()\t                Joins the elements of an iterable to the end of the string\n",
        "# ljust()                 Returns a left justified version of the string\n",
        "# lower()\t                Converts a string into lower case\n",
        "# lstrip()\t              Returns a left trim version of the string\n",
        "# maketrans()           \tReturns a translation table to be used in translations\n",
        "# partition()            \tReturns a tuple where the string is parted into three parts\n",
        "# replace()\t              Returns a string where a specified value is replaced with a specified value\n",
        "# rfind()\t                Searches the string for a specified value and returns the last position of where it was found\n",
        "# rindex()\t              Searches the string for a specified value and returns the last position of where it was found\n",
        "# rjust()\t                Returns a right justified version of the string\n",
        "# rpartition()\t          Returns a tuple where the string is parted into three parts\n",
        "# rsplit()\t              Splits the string at the specified separator, and returns a list\n",
        "# rstrip()\t              Returns a right trim version of the string\n",
        "# split()\t                Splits the string at the specified separator, and returns a list\n",
        "# splitlines()\t          Splits the string at line breaks and returns a list\n",
        "# startswith()\t          Returns true if the string starts with the specified value\n",
        "# strip()\t                Returns a trimmed version of the string\n",
        "# swapcase()\t            Swaps cases, lower case becomes upper case and vice versa\n",
        "# title()\t                Converts the first character of each word to upper case\n",
        "# translate()\t            Returns a translated string\n",
        "# upper()\t                Converts a string into upper case\n",
        "# zfill()\t                Fills the string with a specified number of 0 values at the beginning"
      ],
      "metadata": {
        "id": "VGdY4NdMA8e_"
      },
      "execution_count": null,
      "outputs": []
    },
    {
      "cell_type": "code",
      "source": [
        "a=input(\"Enter value  :- \")\n",
        "for i in a:\n",
        "  print(i)\n",
        "a.split()"
      ],
      "metadata": {
        "colab": {
          "base_uri": "https://localhost:8080/"
        },
        "id": "SBiSbdcKA8hi",
        "outputId": "5cafbd77-f2a1-436d-e4ff-a05d879cfab9"
      },
      "execution_count": null,
      "outputs": [
        {
          "output_type": "stream",
          "name": "stdout",
          "text": [
            "Enter value  :- rfwrvgwv\n",
            "r\n",
            "f\n",
            "w\n",
            "r\n",
            "v\n",
            "g\n",
            "w\n",
            "v\n"
          ]
        }
      ]
    },
    {
      "cell_type": "code",
      "source": [
        "a=\"my name is soumitra\"\n",
        "for i in a.split():\n",
        "  print(i)\n"
      ],
      "metadata": {
        "colab": {
          "base_uri": "https://localhost:8080/"
        },
        "id": "Df9nP3FxKcSf",
        "outputId": "d147e313-e9e8-4bc9-83ed-d97b8cb1a375"
      },
      "execution_count": null,
      "outputs": [
        {
          "output_type": "stream",
          "name": "stdout",
          "text": [
            "my\n",
            "name\n",
            "is\n",
            "soumitra\n"
          ]
        }
      ]
    },
    {
      "cell_type": "code",
      "source": [
        "a=\"machine learning\"\n",
        "len(a)"
      ],
      "metadata": {
        "colab": {
          "base_uri": "https://localhost:8080/"
        },
        "id": "5sG_kDBPA8kC",
        "outputId": "0d3516fd-4e2f-4ffa-a068-e01629dd29c2"
      },
      "execution_count": null,
      "outputs": [
        {
          "output_type": "execute_result",
          "data": {
            "text/plain": [
              "16"
            ]
          },
          "metadata": {},
          "execution_count": 204
        }
      ]
    },
    {
      "cell_type": "code",
      "source": [
        "a=\"machine learning\"\n",
        "count=0\n",
        "for i in a:\n",
        "  count=count+1\n",
        "print(count)"
      ],
      "metadata": {
        "colab": {
          "base_uri": "https://localhost:8080/"
        },
        "id": "ihMFLtRAA8mX",
        "outputId": "4129bdb5-03b8-4742-be83-31ff7f25eb5d"
      },
      "execution_count": null,
      "outputs": [
        {
          "output_type": "stream",
          "name": "stdout",
          "text": [
            "16\n"
          ]
        }
      ]
    },
    {
      "cell_type": "code",
      "source": [],
      "metadata": {
        "id": "HZCshSLrA8pD"
      },
      "execution_count": null,
      "outputs": []
    },
    {
      "cell_type": "code",
      "source": [],
      "metadata": {
        "id": "Ku47MDZwA8tq"
      },
      "execution_count": null,
      "outputs": []
    },
    {
      "cell_type": "code",
      "source": [],
      "metadata": {
        "id": "jUYTbWH_A8wZ"
      },
      "execution_count": null,
      "outputs": []
    },
    {
      "cell_type": "code",
      "source": [],
      "metadata": {
        "id": "dOHbagtcA8yz"
      },
      "execution_count": null,
      "outputs": []
    },
    {
      "cell_type": "code",
      "source": [],
      "metadata": {
        "id": "Z-DqtVSdA81P"
      },
      "execution_count": null,
      "outputs": []
    },
    {
      "cell_type": "code",
      "source": [],
      "metadata": {
        "id": "POeUli0qA83v"
      },
      "execution_count": null,
      "outputs": []
    },
    {
      "cell_type": "code",
      "source": [],
      "metadata": {
        "id": "3j-h5g7q_kD9"
      },
      "execution_count": null,
      "outputs": []
    },
    {
      "cell_type": "code",
      "source": [],
      "metadata": {
        "id": "z9GUYNtP_kGn"
      },
      "execution_count": null,
      "outputs": []
    },
    {
      "cell_type": "code",
      "source": [],
      "metadata": {
        "id": "K_Oynoxs_kJK"
      },
      "execution_count": null,
      "outputs": []
    },
    {
      "cell_type": "code",
      "source": [],
      "metadata": {
        "id": "fe1-PBdY_kN8"
      },
      "execution_count": null,
      "outputs": []
    }
  ]
}